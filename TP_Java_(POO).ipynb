{
  "nbformat": 4,
  "nbformat_minor": 0,
  "metadata": {
    "colab": {
      "provenance": []
    },
    "kernelspec": {
      "name": "python3",
      "display_name": "Python 3"
    },
    "language_info": {
      "name": "python"
    }
  },
  "cells": [
    {
      "cell_type": "markdown",
      "source": [
        "Se puede correr Java en Colab usando este procedimiento:"
      ],
      "metadata": {
        "id": "GhkdKqN0hqNU"
      }
    },
    {
      "cell_type": "code",
      "execution_count": 2,
      "metadata": {
        "id": "cM-NC8jqhgBS"
      },
      "outputs": [],
      "source": [
        "# instalar Java en el entorno de Colab\n",
        "!apt-get install openjdk-11-jdk-headless -qq > /dev/null"
      ]
    },
    {
      "cell_type": "code",
      "source": [
        "# esto es un simple codigo Java para crear Hello World\n",
        "\n",
        "# no va a correr directamente en colab\n",
        "\n",
        "public class Main {\n",
        "        public static void main(String[] args) {\n",
        "            System.out.println(\"Hello, world!\");\n",
        "        }\n",
        "    }\n",
        "\n",
        "# tengo que guardar el codigo primero dentro del entorno del Colab como esta hecho abajo"
      ],
      "metadata": {
        "id": "5n9sjO4LhuRR"
      },
      "execution_count": null,
      "outputs": []
    },
    {
      "cell_type": "code",
      "source": [
        "# wrtiefile guarda el codigo\n",
        "%%writefile Main.java\n",
        "    public class Main {\n",
        "        public static void main(String[] args) {\n",
        "            System.out.println(\"Hello, world!\");\n",
        "        }\n",
        "    }"
      ],
      "metadata": {
        "colab": {
          "base_uri": "https://localhost:8080/"
        },
        "id": "TVRcLq_1hxx8",
        "outputId": "c80e5e55-08ea-42ff-f3be-8e37dab70659"
      },
      "execution_count": 3,
      "outputs": [
        {
          "output_type": "stream",
          "name": "stdout",
          "text": [
            "Writing Main.java\n"
          ]
        }
      ]
    },
    {
      "cell_type": "code",
      "source": [
        "# compilar el codigo Java\n",
        "!javac Main.java"
      ],
      "metadata": {
        "id": "WmTWQQEJhzgU"
      },
      "execution_count": 7,
      "outputs": []
    },
    {
      "cell_type": "code",
      "source": [
        "# y aca lo ejecuto\n",
        "!java Main"
      ],
      "metadata": {
        "colab": {
          "base_uri": "https://localhost:8080/"
        },
        "id": "4O2MyB7Vh3Ew",
        "outputId": "28d8cb9d-b6a9-410c-ce1e-6173b3216f9e"
      },
      "execution_count": 5,
      "outputs": [
        {
          "output_type": "stream",
          "name": "stdout",
          "text": [
            "Hello, world!\n"
          ]
        }
      ]
    },
    {
      "cell_type": "code",
      "source": [
        "# esto es el codigo original en Python\n",
        "\n",
        "class Rock:\n",
        "    def __init__(self):\n",
        "        self.name = 'Rock'\n",
        "\n",
        "    def win(self, other):\n",
        "        return (other.name == 'Scissors') | (other.name == 'Lizard')\n",
        "\n",
        "    def lose(self, other):\n",
        "        return (other.name == 'Paper') | (other.name == 'Spock')\n",
        "\n",
        "    # si empatan\n",
        "    def draw(self, other):\n",
        "        return self.name == other.name\n",
        "\n",
        "class Lizard:\n",
        "    def __init__(self):\n",
        "        self.name = 'Lizard'\n",
        "\n",
        "    def win(self, other):\n",
        "        return (other.name == 'Paper') | (other.name == 'Spock')\n",
        "\n",
        "    def lose(self, other):\n",
        "        return (other.name == 'Rock') | (other.name == 'Scissors')\n",
        "\n",
        "    def draw(self, other):\n",
        "        return self.name == other.name\n",
        "\n",
        "\n",
        "class Spock:\n",
        "    def __init__(self):\n",
        "        self.name = 'Spock'\n",
        "\n",
        "    def win(self, other):\n",
        "        return (other.name == 'Rock') | (other.name == 'Scissors')\n",
        "\n",
        "    def lose(self, other):\n",
        "        return (other.name == 'Paper') | (other.name == 'Lizard')\n",
        "\n",
        "    def draw(self, other):\n",
        "        return self.name == other.name\n",
        "\n",
        "class Scissors:\n",
        "    def __init__(self):\n",
        "        self.name = 'Scissors'\n",
        "\n",
        "    def win(self, other):\n",
        "        return (other.name == 'Lizard') | (other.name == 'Paper')\n",
        "\n",
        "    def lose(self, other):\n",
        "        return (other.name == 'Spock') | (other.name == 'Rock')\n",
        "\n",
        "    def draw(self, other):\n",
        "        return self.name == other.name\n",
        "\n",
        "class Paper:\n",
        "    def __init__(self):\n",
        "        self.name = 'Paper'\n",
        "\n",
        "    def win(self, other):\n",
        "        return (other.name == 'Rock') | (other.name == 'Spock')\n",
        "\n",
        "    def lose(self, other):\n",
        "        return (other.name == 'Lizard') | (other.name == 'Scissors')\n",
        "\n",
        "    def draw(self, other):\n",
        "        return self.name == other.name"
      ],
      "metadata": {
        "id": "WprWAqOvlE8m"
      },
      "execution_count": null,
      "outputs": []
    },
    {
      "cell_type": "markdown",
      "source": [
        "Para desarrollar el codigo Java de este TP utilice los recursos didácticos de la página [W3Schools](https://www.w3schools.com/java/java_oop.asp)"
      ],
      "metadata": {
        "id": "fMvQ4n64h6jq"
      }
    },
    {
      "cell_type": "code",
      "source": [
        "%%writefile Game.java\n",
        "\n",
        "\n",
        "  // Los comentarios en Java se ponen con este '/' simbolo (barra diagonal), no # como en python\n",
        "\n",
        "  // defino las clases\n",
        "\n",
        "  // piedra\n",
        "  class Rock {\n",
        "\n",
        "    // el nombre del movimiento\n",
        "    String name = \"Rock\";\n",
        "\n",
        "    // estos son el 'metodo' de la clase\n",
        "\n",
        "    // metodo para ganar\n",
        "    boolean win(String other) {\n",
        "        // equals se usa para comparar\n",
        "        return other.equals(\"Scissors\") || other.equals(\"Lizard\");\n",
        "    }\n",
        "    // metodo para perder\n",
        "    boolean lose(String other) {\n",
        "        return other.equals(\"Paper\") || other.equals(\"Spock\");\n",
        "    }\n",
        "    // metodo para empatar\n",
        "    boolean draw(String other) {\n",
        "        return this.name.equals(other);\n",
        "    }\n",
        "  }\n",
        "\n",
        "  // piedra\n",
        "  class Paper {\n",
        "    String name = \"Paper\";\n",
        "\n",
        "    boolean win(String other) {\n",
        "        return other.equals(\"Rock\") || other.equals(\"Spock\");\n",
        "    }\n",
        "\n",
        "    boolean lose(String other) {\n",
        "        return other.equals(\"Lizard\") || other.equals(\"Scissors\");\n",
        "    }\n",
        "\n",
        "    boolean draw(String other) {\n",
        "        return this.name.equals(other);\n",
        "    }\n",
        "  }\n",
        "\n",
        "  // Tijera\n",
        "  class Scissors {\n",
        "    String name = \"Scissors\";\n",
        "\n",
        "    boolean win(String other) {\n",
        "        return other.equals(\"Paper\") || other.equals(\"Lizard\");\n",
        "    }\n",
        "\n",
        "    boolean lose(String other) {\n",
        "        return other.equals(\"Rock\") || other.equals(\"Spock\");\n",
        "    }\n",
        "\n",
        "    boolean draw(String other) {\n",
        "        return this.name.equals(other);\n",
        "    }\n",
        "  }\n",
        "\n",
        "  // Lagarto\n",
        "  class Lizard {\n",
        "    String name = \"Lizard\";\n",
        "\n",
        "    boolean win(String other) {\n",
        "        return other.equals(\"Paper\") || other.equals(\"Spock\");\n",
        "    }\n",
        "\n",
        "    boolean lose(String other) {\n",
        "        return other.equals(\"Rock\") || other.equals(\"Scissors\");\n",
        "    }\n",
        "\n",
        "    boolean draw(String other) {\n",
        "        return this.name.equals(other);\n",
        "    }\n",
        "  }\n",
        "\n",
        "  // Spock\n",
        "  class Spock {\n",
        "    String name = \"Spock\";\n",
        "\n",
        "    boolean win(String other) {\n",
        "        return other.equals(\"Rock\") || other.equals(\"Scissors\");\n",
        "    }\n",
        "\n",
        "    boolean lose(String other) {\n",
        "        return other.equals(\"Paper\") || other.equals(\"Lizard\");\n",
        "    }\n",
        "\n",
        "    boolean draw(String other) {\n",
        "        return this.name.equals(other);\n",
        "    }\n",
        "  }\n",
        "\n",
        "  // Aca creo una clase Juego para asertar los movimientos\n",
        "\n",
        "  // public implica que esta clase puede ser usada por otras clases\n",
        "\n",
        "  public class Game {\n",
        "\n",
        "    // static es un metodo que pertenece a la clase pero no puede recibir o acceder\n",
        "    // a la misma instancia de la clase, como 'self' en python\n",
        "    // parecido al @staticmethod en python\n",
        "\n",
        "    public static void main(String[] args) {\n",
        "\n",
        "      // aqui creo los objetos (movimientos) que quiero testear\n",
        "\n",
        "      Rock rock = new Rock(); // new sirve para crear nueva instancia de la clase indicada\n",
        "      Paper paper = new Paper();\n",
        "      Scissors scissors = new Scissors();\n",
        "      Lizard lizard = new Lizard();\n",
        "      Spock spock = new Spock();\n",
        "\n",
        "      // piedra vs papel\n",
        "      System.out.println(\"Rock vs Paper:\");\n",
        "      System.out.println(\"Win: \" + rock.win(paper.name));\n",
        "      System.out.println(\"Lose: \" + rock.lose(paper.name));\n",
        "      System.out.println(\"Draw: \" + rock.draw(paper.name));\n",
        "\n",
        "      System.out.println(\"\\n\");\n",
        "\n",
        "      // piedra vs tijera\n",
        "      System.out.println(\"Rock vs Scissors:\");\n",
        "      System.out.println(\"Win: \" + rock.win(scissors.name));\n",
        "      System.out.println(\"Lose: \" + rock.lose(scissors.name));\n",
        "      System.out.println(\"Draw: \" + rock.draw(scissors.name));\n",
        "\n",
        "      System.out.println(\"\\n\");\n",
        "\n",
        "      // papel vs piedra\n",
        "      System.out.println(\"Paper vs Rock:\");\n",
        "      System.out.println(\"Win: \" + paper.win(rock.name));\n",
        "      System.out.println(\"Lose: \" + paper.lose(rock.name));\n",
        "      System.out.println(\"Draw: \" + paper.draw(rock.name));\n",
        "\n",
        "      System.out.println(\"\\n\");\n",
        "\n",
        "      // tijera vs papel\n",
        "      System.out.println(\"Scissors vs Paper:\");\n",
        "      System.out.println(\"Win: \" + scissors.win(paper.name));\n",
        "      System.out.println(\"Lose: \" + scissors.lose(paper.name));\n",
        "      System.out.println(\"Draw: \" + scissors.draw(paper.name));\n",
        "\n",
        "      System.out.println(\"\\n\");\n",
        "\n",
        "      // lagarto vs spock\n",
        "      System.out.println(\"Lizard vs Spock:\");\n",
        "      System.out.println(\"Win: \" + lizard.win(spock.name));\n",
        "      System.out.println(\"Lose: \" + lizard.lose(spock.name));\n",
        "      System.out.println(\"Draw: \" + lizard.draw(spock.name));\n",
        "\n",
        "      System.out.println(\"\\n\");\n",
        "\n",
        "      // papel vs papel\n",
        "      System.out.println(\"Paper vs Paper:\");\n",
        "      System.out.println(\"Win: \" + paper.win(paper.name));\n",
        "      System.out.println(\"Lose: \" + paper.lose(paper.name));\n",
        "      System.out.println(\"Draw: \" + paper.draw(paper.name));\n",
        "    }\n",
        "  }"
      ],
      "metadata": {
        "colab": {
          "base_uri": "https://localhost:8080/"
        },
        "id": "sx4blzXcjAcF",
        "outputId": "6d32064b-0e53-4d6b-c70f-b1eb9fa59c08"
      },
      "execution_count": 13,
      "outputs": [
        {
          "output_type": "stream",
          "name": "stdout",
          "text": [
            "Overwriting Game.java\n"
          ]
        }
      ]
    },
    {
      "cell_type": "code",
      "source": [
        "# compilar el codigo Java\n",
        "!javac Game.java"
      ],
      "metadata": {
        "id": "c-sQMjN_pJMc"
      },
      "execution_count": 14,
      "outputs": []
    },
    {
      "cell_type": "code",
      "source": [
        "# y aca lo ejecuto\n",
        "!java Game"
      ],
      "metadata": {
        "colab": {
          "base_uri": "https://localhost:8080/"
        },
        "id": "THU6PJE8pLw8",
        "outputId": "5adf32c2-d19a-45ec-853c-a6ad77aae772"
      },
      "execution_count": 15,
      "outputs": [
        {
          "output_type": "stream",
          "name": "stdout",
          "text": [
            "Rock vs Paper:\n",
            "Win: false\n",
            "Lose: true\n",
            "Draw: false\n",
            "\n",
            "\n",
            "Rock vs Scissors:\n",
            "Win: true\n",
            "Lose: false\n",
            "Draw: false\n",
            "\n",
            "\n",
            "Paper vs Rock:\n",
            "Win: true\n",
            "Lose: false\n",
            "Draw: false\n",
            "\n",
            "\n",
            "Scissors vs Paper:\n",
            "Win: true\n",
            "Lose: false\n",
            "Draw: false\n",
            "\n",
            "\n",
            "Lizard vs Spock:\n",
            "Win: true\n",
            "Lose: false\n",
            "Draw: false\n",
            "\n",
            "\n",
            "Paper vs Paper:\n",
            "Win: false\n",
            "Lose: false\n",
            "Draw: true\n"
          ]
        }
      ]
    }
  ]
}